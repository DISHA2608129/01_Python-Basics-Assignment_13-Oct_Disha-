{
  "nbformat": 4,
  "nbformat_minor": 0,
  "metadata": {
    "colab": {
      "provenance": []
    },
    "kernelspec": {
      "name": "python3",
      "display_name": "Python 3"
    },
    "language_info": {
      "name": "python"
    }
  },
  "cells": [
    {
      "cell_type": "markdown",
      "source": [
        "Q1. Explain the key features of Python that make it a popular choice for programming"
      ],
      "metadata": {
        "id": "GMvHkn72oiZa"
      }
    },
    {
      "cell_type": "markdown",
      "source": [
        "Ans: Key elements that make Python appealing:\n",
        "The syntax of Python is supposed to be straightforward and natural language-like, which makes it straightforward to read and comprehend even for newbies.\n",
        "Python has a rich standard library containing modules for typical tasks such as file handling, data processing, and network operations, which reduces the requirement for other libraries.\n",
        "Python automatically identifies variable data forms at runtime, making code easier and enabling faster prototyping.\n",
        "Python fully embraces the object-oriented development paradigms, which enable  modular architecture and code reuse.\n",
        "Python code may operate on a variety of operating platforms without considerable change, making it extremely portable.\n",
        "Python is considered one of the easiest learning programmes to use and learn.\n",
        "Python automatically identifies variable data forms at runtime, making code easier and enabling faster prototyping.\n",
        "\n"
      ],
      "metadata": {
        "id": "ImFzg-8rovBY"
      }
    },
    {
      "cell_type": "markdown",
      "source": [
        "Q2. Describe the role of predefined keywords in Python and provide examples of how they are used in a program."
      ],
      "metadata": {
        "id": "cg5Gd4yotmcm"
      }
    },
    {
      "cell_type": "markdown",
      "source": [
        "Predefined keywords, sometimes referred to as reserved words in Python, are terms that have certain meanings and functions and that specify the syntax and logic of Python code:\n",
        "One of the primary goals of predefined keywords is to outline the syntax of Python code.\n",
        "It has contributed significantly to developing the logic and organisation of Python programming.\n",
        "On the other hand, all these keywords are not applicable as function names, variable names, or the value of an alternative identifier\n",
        "These are usually accessible and require no insertion into code.\n",
        "All keywords, with the exception of True and False, are lowercase and case-sensitive.\n",
        "For example: If a certain condition is met, the break keyword can be used to end a loop.\n",
        "If, else, try, except, True, and False are some relevant and majorly used keywords in Python.\n",
        "\n",
        "\n"
      ],
      "metadata": {
        "id": "Aa-q1k_ptkvN"
      }
    },
    {
      "cell_type": "code",
      "source": [
        "num3 = 10\n",
        "num4 = 20\n",
        "\n",
        "is_greater = num3 > num4  # Evaluates to False\n",
        "is_less = num3 < num4      # Evaluates to True\n",
        "\n",
        "if is_greater:\n",
        "    print(f\"{num3} is greater than {num4}.\")\n",
        "else:\n",
        "    print(f\"{num3} is not greater than {num4}.\")\n",
        "\n",
        "if is_less:\n",
        "    print(f\"{num3} is less than {num4}.\")\n"
      ],
      "metadata": {
        "colab": {
          "base_uri": "https://localhost:8080/"
        },
        "id": "4XhS-Z92xepA",
        "outputId": "168d0b02-bf0c-4191-86f8-c0866a692420"
      },
      "execution_count": null,
      "outputs": [
        {
          "output_type": "stream",
          "name": "stdout",
          "text": [
            "10 is not greater than 20.\n",
            "10 is less than 20.\n"
          ]
        }
      ]
    },
    {
      "cell_type": "markdown",
      "source": [
        "Q3. Compare and contrast mutable and immutable objects in Python with examples."
      ],
      "metadata": {
        "id": "zndASEyByVb7"
      }
    },
    {
      "cell_type": "markdown",
      "source": [
        "In Python, objects are categorised as either mutable or immutable based on whether their state can be changed after creation. Here's a breakdown of the major  differences:\n",
        "Immutable Objects:\n",
        "Definition: Objects whose internal state cannot be changed once created.\n",
        "Examples: Integers, strings, tuples, floats.\n",
        "Behavior: Modifications create a new object with the updated value.\n",
        "Use Cases: Useful for scenarios where data integrity has played a crucial role, like representing constants or keys in dictionaries.\n",
        "Mutable Objects\n",
        "Definition: Objects whose internal state can be modified after creation.\n",
        "Examples: Set, Lists and dictionaries\n",
        "Behavior: Modifications made to the object directly affect the original object.\n",
        "Use Cases: Ideal for scenarios where data needs to be updated dynamically, such as storing and manipulating collections of data.\n"
      ],
      "metadata": {
        "id": "yavRG2N5yXPQ"
      }
    },
    {
      "cell_type": "code",
      "source": [
        "# Mutable Example\n",
        "entire_list = [20, 21, 23]\n",
        "entire_list.append(24)  # Modifies the original list\n",
        "print(entire_list)"
      ],
      "metadata": {
        "colab": {
          "base_uri": "https://localhost:8080/"
        },
        "id": "1tGug4tIzR-N",
        "outputId": "b0073207-8410-4324-aebb-0ee0da327020"
      },
      "execution_count": null,
      "outputs": [
        {
          "output_type": "stream",
          "name": "stdout",
          "text": [
            "[20, 21, 23, 24]\n"
          ]
        }
      ]
    },
    {
      "cell_type": "code",
      "source": [
        "# Immutable Example\n",
        "my_string = \"Red\"\n",
        "new_string = my_string + \" Rose flowers\"  # Creates a new string\n",
        "print(my_string)\n",
        "print(new_string)\n"
      ],
      "metadata": {
        "colab": {
          "base_uri": "https://localhost:8080/"
        },
        "id": "zCEtbLWdzhka",
        "outputId": "a0e63be0-c6bd-40cc-fe65-62f2d7837fd8"
      },
      "execution_count": null,
      "outputs": [
        {
          "output_type": "stream",
          "name": "stdout",
          "text": [
            "Red\n",
            "Red Rose flowers\n"
          ]
        }
      ]
    },
    {
      "cell_type": "markdown",
      "source": [
        "Q4. Discuss the different types of operators in Python and provide examples of how they are used.bold text"
      ],
      "metadata": {
        "id": "xQ0lir_43PgY"
      }
    },
    {
      "cell_type": "markdown",
      "source": [
        "There are seven types of operators have existed in Python such as logical, arithmetic, logical, comparison, identity, bitwise and assignment operators. Some operators has been given below.\n",
        "Arithmetic Operators\n",
        "These operators are used for conducting different mathematical operations. It includes exponentiation, addition, modulus, subtraction, multiplication, division and floor division.\n",
        "\n"
      ],
      "metadata": {
        "id": "NF7a5Fqm3T5O"
      }
    },
    {
      "cell_type": "code",
      "execution_count": null,
      "metadata": {
        "colab": {
          "base_uri": "https://localhost:8080/"
        },
        "id": "ybldofwC6wRp",
        "outputId": "d4b2c82e-28f4-4b11-81fa-3087c3fdd74a"
      },
      "outputs": [
        {
          "output_type": "stream",
          "name": "stdout",
          "text": [
            "15\n",
            "50\n"
          ]
        }
      ],
      "source": [
        "a = 10\n",
        "b = 5\n",
        "print(a + b) # Addition: 15\n",
        "print(a * b) # Multiplication: 50"
      ]
    },
    {
      "cell_type": "markdown",
      "source": [
        "Logical operators have combined return Boolean and conditional statements results. The main logical operators are and, or, and not."
      ],
      "metadata": {
        "id": "ctPsWE5Q9Lwp"
      }
    },
    {
      "cell_type": "code",
      "source": [
        "x = 5\n",
        "y = 10\n",
        "result = (x > 0) and (y > 5)  # True (both conditions are true)\n",
        "print(\"x > 0 and y > 5:\", result)"
      ],
      "metadata": {
        "colab": {
          "base_uri": "https://localhost:8080/"
        },
        "id": "ZmbtLPv7-FA2",
        "outputId": "f1159c9d-cce9-4a89-879e-a41998acab34"
      },
      "execution_count": null,
      "outputs": [
        {
          "output_type": "stream",
          "name": "stdout",
          "text": [
            "x > 0 and y > 5: True\n"
          ]
        }
      ]
    },
    {
      "cell_type": "markdown",
      "source": [
        "These operators compare two values and return a Boolean result (Like True or False). It can involve greater than, less than, equality, inequality, less than or equal to, and greater than or equal to."
      ],
      "metadata": {
        "id": "687dQQdz-oTb"
      }
    },
    {
      "cell_type": "code",
      "source": [
        "result = (x > 0) or (y < 5)  # True (first condition is true)\n",
        "print(\"x > 0 or y < 5:\", result)"
      ],
      "metadata": {
        "id": "7Sr58eC7-tOl",
        "outputId": "00cb147f-b808-4422-fa16-4b5be69e27db",
        "colab": {
          "base_uri": "https://localhost:8080/"
        }
      },
      "execution_count": null,
      "outputs": [
        {
          "output_type": "stream",
          "name": "stdout",
          "text": [
            "x > 0 or y < 5: True\n"
          ]
        }
      ]
    },
    {
      "cell_type": "markdown",
      "source": [
        "These operators carried out operations on the integer’s binary representations. It includes bitwise AND, left shift, right shift, OR, XOR and NOT."
      ],
      "metadata": {
        "id": "qFA1QhYY-9lL"
      }
    },
    {
      "cell_type": "code",
      "source": [
        "a = 5  # (binary: 0101)\n",
        "b = 3  # (binary: 0011)\n",
        "\n",
        "result = a & b  # (binary: 0001) => 1\n",
        "print(\"Bitwise AND:\", result)\n"
      ],
      "metadata": {
        "id": "4_-u6PxM_LD5",
        "outputId": "e819db53-abde-4e25-debd-2f3a04b09610",
        "colab": {
          "base_uri": "https://localhost:8080/"
        }
      },
      "execution_count": null,
      "outputs": [
        {
          "output_type": "stream",
          "name": "stdout",
          "text": [
            "Bitwise AND: 1\n"
          ]
        }
      ]
    },
    {
      "cell_type": "markdown",
      "source": [
        "Q5. Explain the concept of type casting in Python with examples."
      ],
      "metadata": {
        "id": "JLC_X1smAIVr"
      }
    },
    {
      "cell_type": "markdown",
      "source": [
        "Transforming a data value type into a another data type is known as type casting. The programming language and casting type will determine whether this conversion is done automatically or manually:\n",
        "Casting automatically\n",
        "A smaller type is automatically converted to a higher type size by the compiler. For instance, if a float variable is set to an integer value in C, the compiler will immediately convert it to a float value.\n",
        "By hand casting\n",
        "A larger type is manually reduced in size by a programmer. Programmers can manually convert a larger type to a smaller type, for instance, in Java by putting the type in parenthesis in front of the value.\n"
      ],
      "metadata": {
        "id": "avtvo9MYAKXd"
      }
    },
    {
      "cell_type": "code",
      "source": [
        "# Float to Integer\n",
        "float_num = 3.14\n",
        "int_num = int(float_num)  # Converts to 3\n",
        "print(\"Integer from float:\", int_num)"
      ],
      "metadata": {
        "id": "Ai2uFUnuAhHM",
        "outputId": "80e99620-a7b2-46af-f984-4c2f43060e2a",
        "colab": {
          "base_uri": "https://localhost:8080/"
        }
      },
      "execution_count": null,
      "outputs": [
        {
          "output_type": "stream",
          "name": "stdout",
          "text": [
            "Integer from float: 3\n"
          ]
        }
      ]
    },
    {
      "cell_type": "code",
      "source": [
        "# String to Integer\n",
        "str_num = \"42\"\n",
        "int_num_from_str = int(str_num)  # Converts to 42\n",
        "print(\"Integer from string:\", int_num_from_str)\n"
      ],
      "metadata": {
        "colab": {
          "base_uri": "https://localhost:8080/"
        },
        "id": "KIj9bfT4Ardc",
        "outputId": "faea5d2e-9dad-44cf-f177-71fb309ddaf2"
      },
      "execution_count": null,
      "outputs": [
        {
          "output_type": "stream",
          "name": "stdout",
          "text": [
            "Integer from string: 42\n"
          ]
        }
      ]
    },
    {
      "cell_type": "markdown",
      "source": [
        "Q6. How do conditional statements work in Python? Illustrate with examples."
      ],
      "metadata": {
        "id": "iUYu9BkLBXrt"
      }
    },
    {
      "cell_type": "markdown",
      "source": [
        "Conditional statements in Python Programming are used to execute different code blocks based on whether a condition is true or false. If, elif, and else are most common statement used in Python.  "
      ],
      "metadata": {
        "id": "CQdGAlWVBZg-"
      }
    },
    {
      "cell_type": "code",
      "source": [
        "x = 34\n",
        "\n",
        "if x > 5:\n",
        "    print(\"x is greater than 5.\")\n"
      ],
      "metadata": {
        "colab": {
          "base_uri": "https://localhost:8080/"
        },
        "id": "5aoMWDKaCQLK",
        "outputId": "e8499da1-80fd-4c73-8f2f-06f787aa6746"
      },
      "execution_count": null,
      "outputs": [
        {
          "output_type": "stream",
          "name": "stdout",
          "text": [
            "x is greater than 5.\n"
          ]
        }
      ]
    },
    {
      "cell_type": "code",
      "source": [
        "x = 10\n",
        "\n",
        "if x > 10:\n",
        "    print(\"x is greater than 10.\")\n",
        "elif x == 10:\n",
        "    print(\"x is equal to 10.\")\n"
      ],
      "metadata": {
        "colab": {
          "base_uri": "https://localhost:8080/"
        },
        "id": "y2MDTFAZC6GU",
        "outputId": "7bedf46d-575d-4167-a78d-d3d72766acd1"
      },
      "execution_count": null,
      "outputs": [
        {
          "output_type": "stream",
          "name": "stdout",
          "text": [
            "x is equal to 10.\n"
          ]
        }
      ]
    },
    {
      "cell_type": "markdown",
      "source": [
        "Q7. Describe the different types of loops in Python and their use cases with examples."
      ],
      "metadata": {
        "id": "WLQb85cQDFD3"
      }
    },
    {
      "cell_type": "markdown",
      "source": [
        "Python offers several varieties of loops, such as:\n",
        "Iterates over a sequence, such as a list, dictionary, set, tuple, or string, using a for loop. A for loop has the following syntax to iterate Var in sequence: statement(s).\n",
        "When a condition is met, a series of statements are carried out using a while loop. A while loop has the following syntax: while expression: statements.\n",
        "A loop that is contained inside another loop is known as a nested loop."
      ],
      "metadata": {
        "id": "mv9qd-9cDe32"
      }
    },
    {
      "cell_type": "code",
      "source": [
        "fruits = [\"orange\", \"mango\", \"cherry\"]\n",
        "\n",
        "for fruit in fruits:\n",
        "    print(fruit)\n"
      ],
      "metadata": {
        "id": "Mc9x8oQED8ag",
        "outputId": "9a5bc47c-2ef3-47dd-b8a3-99c382ff99de",
        "colab": {
          "base_uri": "https://localhost:8080/"
        }
      },
      "execution_count": null,
      "outputs": [
        {
          "output_type": "stream",
          "name": "stdout",
          "text": [
            "orange\n",
            "mango\n",
            "cherry\n"
          ]
        }
      ]
    },
    {
      "cell_type": "code",
      "source": [
        "for i in range(3):  # Outer loop\n",
        "    for j in range(2):  # Inner loop\n",
        "        print(f\"i: {i}, j: {j}\")\n"
      ],
      "metadata": {
        "colab": {
          "base_uri": "https://localhost:8080/"
        },
        "id": "K7m-BdqVEIJM",
        "outputId": "15bda9f5-cbe3-444a-b8d3-b926bb836af3"
      },
      "execution_count": null,
      "outputs": [
        {
          "output_type": "stream",
          "name": "stdout",
          "text": [
            "i: 0, j: 0\n",
            "i: 0, j: 1\n",
            "i: 1, j: 0\n",
            "i: 1, j: 1\n",
            "i: 2, j: 0\n",
            "i: 2, j: 1\n"
          ]
        }
      ]
    }
  ]
}